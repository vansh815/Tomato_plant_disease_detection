{
  "nbformat": 4,
  "nbformat_minor": 0,
  "metadata": {
    "colab": {
      "name": "VGG16.ipynb",
      "provenance": [],
      "toc_visible": true
    },
    "kernelspec": {
      "name": "python3",
      "display_name": "Python 3"
    },
    "accelerator": "GPU"
  },
  "cells": [
    {
      "cell_type": "code",
      "metadata": {
        "id": "o4fTMOUlxiMR",
        "colab_type": "code",
        "outputId": "5b884f65-20ad-4b15-a4ae-c121874a0d71",
        "colab": {
          "base_uri": "https://localhost:8080/",
          "height": 189
        }
      },
      "source": [
        "# Load the Drive helper and mount\n",
        "from google.colab import drive\n",
        "\n",
        "# This will prompt for authorization.\n",
        "drive.mount('/content/drive')"
      ],
      "execution_count": 0,
      "outputs": [
        {
          "output_type": "stream",
          "text": [
            "Go to this URL in a browser: https://accounts.google.com/o/oauth2/auth?client_id=947318989803-6bn6qk8qdgf4n4g3pfee6491hc0brc4i.apps.googleusercontent.com&redirect_uri=urn%3Aietf%3Awg%3Aoauth%3A2.0%3Aoob&scope=email%20https%3A%2F%2Fwww.googleapis.com%2Fauth%2Fdocs.test%20https%3A%2F%2Fwww.googleapis.com%2Fauth%2Fdrive%20https%3A%2F%2Fwww.googleapis.com%2Fauth%2Fdrive.photos.readonly%20https%3A%2F%2Fwww.googleapis.com%2Fauth%2Fpeopleapi.readonly&response_type=code\n",
            "\n",
            "Enter your authorization code:\n",
            "··········\n",
            "Mounted at /content/drive\n"
          ],
          "name": "stdout"
        }
      ]
    },
    {
      "cell_type": "code",
      "metadata": {
        "id": "Wcp0OlLmxuj5",
        "colab_type": "code",
        "outputId": "54afba49-7d50-4049-eb84-cd8883564ab7",
        "colab": {
          "base_uri": "https://localhost:8080/",
          "height": 34
        }
      },
      "source": [
        "import numpy as np\n",
        "import cv2\n",
        "from keras.applications.xception import Xception,preprocess_input\n",
        "from keras.models import Sequential\n",
        "from keras.layers import GlobalAveragePooling2D"
      ],
      "execution_count": 0,
      "outputs": [
        {
          "output_type": "stream",
          "text": [
            "Using TensorFlow backend.\n"
          ],
          "name": "stderr"
        }
      ]
    },
    {
      "cell_type": "code",
      "metadata": {
        "id": "I_T2wPonyxIf",
        "colab_type": "code",
        "colab": {}
      },
      "source": [
        "import numpy as np\n",
        "import matplotlib.pyplot as plt\n",
        "%matplotlib inline\n",
        "from __future__ import print_function\n",
        "import keras\n",
        "from keras.utils import to_categorical\n",
        "import os\n",
        "from keras.preprocessing.image import ImageDataGenerator, load_img"
      ],
      "execution_count": 0,
      "outputs": []
    },
    {
      "cell_type": "code",
      "metadata": {
        "id": "Mov8oM4My8fZ",
        "colab_type": "code",
        "outputId": "5c004d5e-37ad-4870-a919-5202332ed7a2",
        "colab": {
          "base_uri": "https://localhost:8080/",
          "height": 485
        }
      },
      "source": [
        "from keras.applications import VGG16\n",
        "\n",
        "vgg_conv = VGG16(weights='imagenet',\n",
        "                  include_top=False,\n",
        "                  input_shape=(224, 224, 3))"
      ],
      "execution_count": 0,
      "outputs": [
        {
          "output_type": "stream",
          "text": [
            "WARNING:tensorflow:From /usr/local/lib/python3.6/dist-packages/tensorflow/python/framework/op_def_library.py:263: colocate_with (from tensorflow.python.framework.ops) is deprecated and will be removed in a future version.\n",
            "Instructions for updating:\n",
            "Colocations handled automatically by placer.\n",
            "Downloading data from https://github.com/fchollet/deep-learning-models/releases/download/v0.1/vgg16_weights_tf_dim_ordering_tf_kernels_notop.h5\n",
            "58892288/58889256 [==============================] - 5s 0us/step\n"
          ],
          "name": "stdout"
        }
      ]
    },
    {
      "cell_type": "code",
      "metadata": {
        "id": "fx19sRr9zC3W",
        "colab_type": "code",
        "outputId": "339a7bda-7ee7-4f05-88e9-cb25ddf01bf8",
        "colab": {
          "base_uri": "https://localhost:8080/",
          "height": 782
        }
      },
      "source": [
        "vgg_conv.summary()\n"
      ],
      "execution_count": 0,
      "outputs": [
        {
          "output_type": "stream",
          "text": [
            "_________________________________________________________________\n",
            "Layer (type)                 Output Shape              Param #   \n",
            "=================================================================\n",
            "input_1 (InputLayer)         (None, 224, 224, 3)       0         \n",
            "_________________________________________________________________\n",
            "block1_conv1 (Conv2D)        (None, 224, 224, 64)      1792      \n",
            "_________________________________________________________________\n",
            "block1_conv2 (Conv2D)        (None, 224, 224, 64)      36928     \n",
            "_________________________________________________________________\n",
            "block1_pool (MaxPooling2D)   (None, 112, 112, 64)      0         \n",
            "_________________________________________________________________\n",
            "block2_conv1 (Conv2D)        (None, 112, 112, 128)     73856     \n",
            "_________________________________________________________________\n",
            "block2_conv2 (Conv2D)        (None, 112, 112, 128)     147584    \n",
            "_________________________________________________________________\n",
            "block2_pool (MaxPooling2D)   (None, 56, 56, 128)       0         \n",
            "_________________________________________________________________\n",
            "block3_conv1 (Conv2D)        (None, 56, 56, 256)       295168    \n",
            "_________________________________________________________________\n",
            "block3_conv2 (Conv2D)        (None, 56, 56, 256)       590080    \n",
            "_________________________________________________________________\n",
            "block3_conv3 (Conv2D)        (None, 56, 56, 256)       590080    \n",
            "_________________________________________________________________\n",
            "block3_pool (MaxPooling2D)   (None, 28, 28, 256)       0         \n",
            "_________________________________________________________________\n",
            "block4_conv1 (Conv2D)        (None, 28, 28, 512)       1180160   \n",
            "_________________________________________________________________\n",
            "block4_conv2 (Conv2D)        (None, 28, 28, 512)       2359808   \n",
            "_________________________________________________________________\n",
            "block4_conv3 (Conv2D)        (None, 28, 28, 512)       2359808   \n",
            "_________________________________________________________________\n",
            "block4_pool (MaxPooling2D)   (None, 14, 14, 512)       0         \n",
            "_________________________________________________________________\n",
            "block5_conv1 (Conv2D)        (None, 14, 14, 512)       2359808   \n",
            "_________________________________________________________________\n",
            "block5_conv2 (Conv2D)        (None, 14, 14, 512)       2359808   \n",
            "_________________________________________________________________\n",
            "block5_conv3 (Conv2D)        (None, 14, 14, 512)       2359808   \n",
            "_________________________________________________________________\n",
            "block5_pool (MaxPooling2D)   (None, 7, 7, 512)         0         \n",
            "=================================================================\n",
            "Total params: 14,714,688\n",
            "Trainable params: 14,714,688\n",
            "Non-trainable params: 0\n",
            "_________________________________________________________________\n"
          ],
          "name": "stdout"
        }
      ]
    },
    {
      "cell_type": "code",
      "metadata": {
        "id": "kPzak6xozQ03",
        "colab_type": "code",
        "colab": {}
      },
      "source": [
        "train_dir = 'drive/My Drive/dataset1/train'\n",
        "validation_dir = 'drive/My Drive/dataset1/test'\n",
        "\n",
        "nTrain = 5071\n",
        "nVal = 1269"
      ],
      "execution_count": 0,
      "outputs": []
    },
    {
      "cell_type": "code",
      "metadata": {
        "id": "XMlar8WXzerS",
        "colab_type": "code",
        "outputId": "e2d4985b-6030-4e20-a41f-b2169b2d1f6b",
        "colab": {
          "base_uri": "https://localhost:8080/",
          "height": 34
        }
      },
      "source": [
        "from PIL import ImageFile\n",
        "ImageFile.LOAD_TRUNCATED_IMAGES = True\n",
        "\n",
        "\n",
        "datagen = ImageDataGenerator(rescale=1./255)\n",
        "batch_size = 20\n",
        "\n",
        "\n",
        "train_features = np.zeros(shape=(nTrain, 7, 7, 512))\n",
        "train_labels = np.zeros(shape=(nTrain,6))\n",
        "\n",
        "train_generator = datagen.flow_from_directory(\n",
        "    train_dir,\n",
        "    target_size=(224, 224),\n",
        "    batch_size=batch_size,\n",
        "    class_mode='categorical',\n",
        "    shuffle=True)\n",
        "\n",
        "i = 0\n",
        "for inputs_batch, labels_batch in train_generator:\n",
        "    features_batch = vgg_conv.predict(inputs_batch)\n",
        "    train_features[i * batch_size : (i + 1) * batch_size] = features_batch\n",
        "    train_labels[i * batch_size : (i + 1) * batch_size] = labels_batch\n",
        "    i += 1\n",
        "    if i * batch_size >= nTrain:\n",
        "        break\n",
        "        \n",
        "train_features = np.reshape(train_features, (nTrain, 7 * 7 * 512))"
      ],
      "execution_count": 0,
      "outputs": [
        {
          "output_type": "stream",
          "text": [
            "Found 5071 images belonging to 6 classes.\n"
          ],
          "name": "stdout"
        }
      ]
    },
    {
      "cell_type": "code",
      "metadata": {
        "id": "8WTVkepG0deT",
        "colab_type": "code",
        "outputId": "b845e0a6-d2bd-42be-d539-f72c66bb8311",
        "colab": {
          "base_uri": "https://localhost:8080/",
          "height": 34
        }
      },
      "source": [
        "validation_features = np.zeros(shape=(nVal, 7, 7, 512))\n",
        "validation_labels = np.zeros(shape=(nVal,6))\n",
        "\n",
        "validation_generator = datagen.flow_from_directory(\n",
        "    validation_dir,\n",
        "    target_size=(224, 224),\n",
        "    batch_size=batch_size,\n",
        "    class_mode='categorical',\n",
        "    shuffle=False)\n",
        "\n",
        "i = 0\n",
        "for inputs_batch, labels_batch in validation_generator:\n",
        "    features_batch = vgg_conv.predict(inputs_batch)\n",
        "    validation_features[i * batch_size : (i + 1) * batch_size] = features_batch\n",
        "    validation_labels[i * batch_size : (i + 1) * batch_size] = labels_batch\n",
        "    i += 1\n",
        "    if i * batch_size >= nVal:\n",
        "        break\n",
        "\n",
        "validation_features = np.reshape(validation_features, (nVal, 7 * 7 * 512))"
      ],
      "execution_count": 0,
      "outputs": [
        {
          "output_type": "stream",
          "text": [
            "Found 1269 images belonging to 6 classes.\n"
          ],
          "name": "stdout"
        }
      ]
    },
    {
      "cell_type": "code",
      "metadata": {
        "id": "373C7kpG0oTS",
        "colab_type": "code",
        "outputId": "8a75a006-572e-467e-c431-f4c11f7a13d6",
        "colab": {
          "base_uri": "https://localhost:8080/",
          "height": 1020
        }
      },
      "source": [
        "from keras import models\n",
        "from keras import layers\n",
        "from keras import optimizers\n",
        "\n",
        "model = models.Sequential()\n",
        "model.add(layers.Dense(512, activation='relu', input_dim=7 * 7 * 512))\n",
        "model.add(layers.Dropout(0.5))\n",
        "model.add(layers.Dense(6, activation='softmax'))\n",
        "\n",
        "model.compile(optimizer=optimizers.RMSprop(lr=2e-4),\n",
        "              loss='categorical_crossentropy',\n",
        "              metrics=['acc'])\n",
        "\n",
        "history = model.fit(train_features,\n",
        "                    train_labels,\n",
        "                    epochs=20,\n",
        "                    batch_size=20,\n",
        "                    validation_data=(validation_features,validation_labels))\n"
      ],
      "execution_count": 0,
      "outputs": [
        {
          "output_type": "stream",
          "text": [
            "Train on 5071 samples, validate on 1269 samples\n",
            "Epoch 1/20\n",
            "5071/5071 [==============================] - 6s 1ms/step - loss: 0.6110 - acc: 0.8318 - val_loss: 0.1586 - val_acc: 0.9409\n",
            "Epoch 2/20\n",
            "5071/5071 [==============================] - 5s 985us/step - loss: 0.1716 - acc: 0.9397 - val_loss: 0.1149 - val_acc: 0.9622\n",
            "Epoch 3/20\n",
            "5071/5071 [==============================] - 5s 979us/step - loss: 0.1039 - acc: 0.9645 - val_loss: 0.1975 - val_acc: 0.9425\n",
            "Epoch 4/20\n",
            "5071/5071 [==============================] - 5s 979us/step - loss: 0.0809 - acc: 0.9708 - val_loss: 0.0810 - val_acc: 0.9732\n",
            "Epoch 5/20\n",
            "5071/5071 [==============================] - 5s 986us/step - loss: 0.0598 - acc: 0.9781 - val_loss: 0.0791 - val_acc: 0.9764\n",
            "Epoch 6/20\n",
            "5071/5071 [==============================] - 5s 980us/step - loss: 0.0526 - acc: 0.9828 - val_loss: 0.0608 - val_acc: 0.9842\n",
            "Epoch 7/20\n",
            "5071/5071 [==============================] - 5s 983us/step - loss: 0.0389 - acc: 0.9854 - val_loss: 0.0500 - val_acc: 0.9866\n",
            "Epoch 8/20\n",
            "5071/5071 [==============================] - 5s 978us/step - loss: 0.0369 - acc: 0.9872 - val_loss: 0.0417 - val_acc: 0.9898\n",
            "Epoch 9/20\n",
            "5071/5071 [==============================] - 5s 986us/step - loss: 0.0325 - acc: 0.9886 - val_loss: 0.0735 - val_acc: 0.9740\n",
            "Epoch 10/20\n",
            "5071/5071 [==============================] - 5s 981us/step - loss: 0.0306 - acc: 0.9895 - val_loss: 0.0431 - val_acc: 0.9905\n",
            "Epoch 11/20\n",
            "5071/5071 [==============================] - 5s 982us/step - loss: 0.0261 - acc: 0.9921 - val_loss: 0.0441 - val_acc: 0.9890\n",
            "Epoch 12/20\n",
            "5071/5071 [==============================] - 5s 981us/step - loss: 0.0222 - acc: 0.9931 - val_loss: 0.0453 - val_acc: 0.9866\n",
            "Epoch 13/20\n",
            "5071/5071 [==============================] - 5s 979us/step - loss: 0.0185 - acc: 0.9935 - val_loss: 0.0349 - val_acc: 0.9921\n",
            "Epoch 14/20\n",
            "5071/5071 [==============================] - 5s 983us/step - loss: 0.0203 - acc: 0.9931 - val_loss: 0.0385 - val_acc: 0.9913\n",
            "Epoch 15/20\n",
            "5071/5071 [==============================] - 5s 982us/step - loss: 0.0143 - acc: 0.9953 - val_loss: 0.0561 - val_acc: 0.9882\n",
            "Epoch 16/20\n",
            "5071/5071 [==============================] - 5s 985us/step - loss: 0.0167 - acc: 0.9945 - val_loss: 0.0812 - val_acc: 0.9803\n",
            "Epoch 17/20\n",
            "5071/5071 [==============================] - 5s 985us/step - loss: 0.0133 - acc: 0.9957 - val_loss: 0.0493 - val_acc: 0.9890\n",
            "Epoch 18/20\n",
            "5071/5071 [==============================] - 5s 984us/step - loss: 0.0108 - acc: 0.9955 - val_loss: 0.0507 - val_acc: 0.9882\n",
            "Epoch 19/20\n",
            "5071/5071 [==============================] - 5s 985us/step - loss: 0.0096 - acc: 0.9961 - val_loss: 0.0409 - val_acc: 0.9905\n",
            "Epoch 20/20\n",
            "5071/5071 [==============================] - 5s 986us/step - loss: 0.0066 - acc: 0.9972 - val_loss: 0.0439 - val_acc: 0.9905\n"
          ],
          "name": "stdout"
        }
      ]
    }
  ]
}